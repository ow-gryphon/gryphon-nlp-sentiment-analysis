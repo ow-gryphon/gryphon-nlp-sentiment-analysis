{
 "cells": [
  {
   "cell_type": "markdown",
   "id": "cf438eb0-7963-4966-9367-c8c65732efb7",
   "metadata": {},
   "source": [
    "## Sentiment classification - Using Word embedding\n",
    "\n",
    "### Train\n",
    "\n",
    "In this training metodology we'll compare the classification performance using bag of words and word embedding.\n"
   ]
  },
  {
   "cell_type": "code",
   "execution_count": 2,
   "id": "dc8264bf-b5af-4559-9e46-7cc52addfe50",
   "metadata": {},
   "outputs": [],
   "source": [
    "# Add path of the folder 'resources' to the path from which we can import modules  \n",
    "import sys\n",
    "sys.path.append('../utilities')"
   ]
  },
  {
   "cell_type": "code",
   "execution_count": 3,
   "id": "efa777c4-adc0-4870-b607-557894fa7323",
   "metadata": {},
   "outputs": [],
   "source": [
    "import re\n",
    "\n",
    "import pandas as pd\n",
    "\n",
    "from nlp import BagOfWords, WordEmbedding\n",
    "\n",
    "pd.set_option('display.max_colwidth', 500)"
   ]
  },
  {
   "cell_type": "markdown",
   "id": "aca49b62-0240-49af-8131-8ff7249ea54a",
   "metadata": {},
   "source": [
    "### Read data\n",
    "\n",
    "In the following cell we read the data from a CSV file and filter only the GOOD / BAD evaluated texts (to simplify classification)."
   ]
  },
  {
   "cell_type": "code",
   "execution_count": 27,
   "id": "d8b0b6c3-bf09-4710-9b8f-dc6e591b9297",
   "metadata": {},
   "outputs": [
    {
     "data": {
      "text/html": [
       "<div>\n",
       "<style scoped>\n",
       "    .dataframe tbody tr th:only-of-type {\n",
       "        vertical-align: middle;\n",
       "    }\n",
       "\n",
       "    .dataframe tbody tr th {\n",
       "        vertical-align: top;\n",
       "    }\n",
       "\n",
       "    .dataframe thead th {\n",
       "        text-align: right;\n",
       "    }\n",
       "</style>\n",
       "<table border=\"1\" class=\"dataframe\">\n",
       "  <thead>\n",
       "    <tr style=\"text-align: right;\">\n",
       "      <th></th>\n",
       "      <th>Id</th>\n",
       "      <th>Sentiment</th>\n",
       "      <th>Text</th>\n",
       "    </tr>\n",
       "  </thead>\n",
       "  <tbody>\n",
       "    <tr>\n",
       "      <th>0</th>\n",
       "      <td>0</td>\n",
       "      <td>Bad</td>\n",
       "      <td>company company    lot  recalls barrons blog</td>\n",
       "    </tr>\n",
       "    <tr>\n",
       "      <th>2</th>\n",
       "      <td>2</td>\n",
       "      <td>Bad</td>\n",
       "      <td>company company  risky   autonomous driving plan barrons blog</td>\n",
       "    </tr>\n",
       "    <tr>\n",
       "      <th>3</th>\n",
       "      <td>3</td>\n",
       "      <td>Good</td>\n",
       "      <td>company company plans ridehailing service  fleet  driverless cars</td>\n",
       "    </tr>\n",
       "    <tr>\n",
       "      <th>4</th>\n",
       "      <td>4</td>\n",
       "      <td>Bad</td>\n",
       "      <td>company company files k  events f</td>\n",
       "    </tr>\n",
       "    <tr>\n",
       "      <th>5</th>\n",
       "      <td>5</td>\n",
       "      <td>Bad</td>\n",
       "      <td>company company  goldman sachs threw   towel barrons blog</td>\n",
       "    </tr>\n",
       "  </tbody>\n",
       "</table>\n",
       "</div>"
      ],
      "text/plain": [
       "   Id Sentiment  \\\n",
       "0   0       Bad   \n",
       "2   2       Bad   \n",
       "3   3      Good   \n",
       "4   4       Bad   \n",
       "5   5       Bad   \n",
       "\n",
       "                                                                 Text  \n",
       "0                        company company    lot  recalls barrons blog  \n",
       "2       company company  risky   autonomous driving plan barrons blog  \n",
       "3  company company plans ridehailing service  fleet  driverless cars   \n",
       "4                                   company company files k  events f  \n",
       "5           company company  goldman sachs threw   towel barrons blog  "
      ]
     },
     "execution_count": 27,
     "metadata": {},
     "output_type": "execute_result"
    }
   ],
   "source": [
    "dataset = pd.read_csv(\"./sample_output/sentiment_train_processed1.csv\")\n",
    "\n",
    "text_field = \"Text\"\n",
    "class_field = \"Sentiment\"\n",
    "\n",
    "dataset = dataset.query(\"Sentiment != 'Neutral'\")\n",
    "\n",
    "dataset.head()"
   ]
  },
  {
   "cell_type": "markdown",
   "id": "4e01dbc8-826e-4997-81dd-a237dc187cb4",
   "metadata": {},
   "source": [
    "### Word embedding\n",
    "\n",
    "The word embedding representation is then calculated."
   ]
  },
  {
   "cell_type": "code",
   "execution_count": 28,
   "id": "db4f70f6-1661-4112-bae6-8f5a7949a6f7",
   "metadata": {},
   "outputs": [
    {
     "name": "stdout",
     "output_type": "stream",
     "text": [
      "Loading embedding model to memory...\n",
      "Done!\n"
     ]
    }
   ],
   "source": [
    "embedding = WordEmbedding()"
   ]
  },
  {
   "cell_type": "code",
   "execution_count": 29,
   "id": "bcf7fe41-4d70-453a-bfc8-24b63d75e919",
   "metadata": {},
   "outputs": [
    {
     "data": {
      "text/plain": [
       "array([[ 0.07675781,  0.02259522, -0.05097656, ..., -0.0350586 ,\n",
       "        -0.04492188, -0.14404297],\n",
       "       [ 0.04305594, -0.06951904, -0.01410784, ..., -0.03456334,\n",
       "        -0.02202497, -0.07232666],\n",
       "       [ 0.11544364,  0.0324707 ,  0.0905413 , ...,  0.03480748,\n",
       "        -0.07974679, -0.14257812],\n",
       "       ...,\n",
       "       [ 0.02143999, -0.04086026, -0.04854792, ...,  0.01879883,\n",
       "        -0.01993075, -0.11048473],\n",
       "       [ 0.02790715, -0.03783241, -0.03212092, ..., -0.00324895,\n",
       "        -0.01854412, -0.1219858 ],\n",
       "       [-0.03604126, -0.07578278,  0.05036926, ..., -0.03924942,\n",
       "        -0.05232239, -0.04679108]], dtype=float32)"
      ]
     },
     "execution_count": 29,
     "metadata": {},
     "output_type": "execute_result"
    }
   ],
   "source": [
    "result = embedding.transform(dataset[text_field])\n",
    "result"
   ]
  },
  {
   "cell_type": "markdown",
   "id": "fb5f8761-4c87-4c4c-b07f-51c4cbd56aeb",
   "metadata": {},
   "source": [
    "### Classification\n",
    "Both of them will be tested as input to a Logistic regression classifier."
   ]
  },
  {
   "cell_type": "code",
   "execution_count": 30,
   "id": "f5927aad-73d1-48ff-bf59-3ede0798d069",
   "metadata": {},
   "outputs": [],
   "source": [
    "from sklearn.linear_model import LogisticRegression, LogisticRegressionCV\n",
    "from sklearn.preprocessing import StandardScaler\n",
    "import sklearn.model_selection as modsel\n",
    "from sklearn.exceptions import ConvergenceWarning\n",
    "from sklearn.metrics import f1_score, precision_score, recall_score, accuracy_score, auc, roc_auc_score\n",
    "\n",
    "warnings.filterwarnings('ignore', category=ConvergenceWarning)"
   ]
  },
  {
   "cell_type": "code",
   "execution_count": 32,
   "id": "4a7346bd-968b-4864-80e1-db5c8118d64c",
   "metadata": {},
   "outputs": [
    {
     "data": {
      "text/html": [
       "<div>\n",
       "<style scoped>\n",
       "    .dataframe tbody tr th:only-of-type {\n",
       "        vertical-align: middle;\n",
       "    }\n",
       "\n",
       "    .dataframe tbody tr th {\n",
       "        vertical-align: top;\n",
       "    }\n",
       "\n",
       "    .dataframe thead th {\n",
       "        text-align: right;\n",
       "    }\n",
       "</style>\n",
       "<table border=\"1\" class=\"dataframe\">\n",
       "  <thead>\n",
       "    <tr style=\"text-align: right;\">\n",
       "      <th></th>\n",
       "      <th>embedding</th>\n",
       "    </tr>\n",
       "  </thead>\n",
       "  <tbody>\n",
       "    <tr>\n",
       "      <th>0</th>\n",
       "      <td>0.737452</td>\n",
       "    </tr>\n",
       "    <tr>\n",
       "      <th>1</th>\n",
       "      <td>0.738224</td>\n",
       "    </tr>\n",
       "    <tr>\n",
       "      <th>2</th>\n",
       "      <td>0.760618</td>\n",
       "    </tr>\n",
       "    <tr>\n",
       "      <th>3</th>\n",
       "      <td>0.755985</td>\n",
       "    </tr>\n",
       "    <tr>\n",
       "      <th>4</th>\n",
       "      <td>0.763707</td>\n",
       "    </tr>\n",
       "    <tr>\n",
       "      <th>5</th>\n",
       "      <td>0.763707</td>\n",
       "    </tr>\n",
       "    <tr>\n",
       "      <th>6</th>\n",
       "      <td>0.765251</td>\n",
       "    </tr>\n",
       "    <tr>\n",
       "      <th>7</th>\n",
       "      <td>0.764479</td>\n",
       "    </tr>\n",
       "    <tr>\n",
       "      <th>8</th>\n",
       "      <td>0.766023</td>\n",
       "    </tr>\n",
       "    <tr>\n",
       "      <th>9</th>\n",
       "      <td>0.771429</td>\n",
       "    </tr>\n",
       "    <tr>\n",
       "      <th>10</th>\n",
       "      <td>0.771429</td>\n",
       "    </tr>\n",
       "    <tr>\n",
       "      <th>11</th>\n",
       "      <td>0.771429</td>\n",
       "    </tr>\n",
       "    <tr>\n",
       "      <th>12</th>\n",
       "      <td>0.775290</td>\n",
       "    </tr>\n",
       "    <tr>\n",
       "      <th>13</th>\n",
       "      <td>0.779151</td>\n",
       "    </tr>\n",
       "    <tr>\n",
       "      <th>14</th>\n",
       "      <td>0.780695</td>\n",
       "    </tr>\n",
       "    <tr>\n",
       "      <th>15</th>\n",
       "      <td>0.780695</td>\n",
       "    </tr>\n",
       "    <tr>\n",
       "      <th>16</th>\n",
       "      <td>0.779151</td>\n",
       "    </tr>\n",
       "    <tr>\n",
       "      <th>17</th>\n",
       "      <td>0.778378</td>\n",
       "    </tr>\n",
       "    <tr>\n",
       "      <th>18</th>\n",
       "      <td>0.776062</td>\n",
       "    </tr>\n",
       "    <tr>\n",
       "      <th>19</th>\n",
       "      <td>0.773745</td>\n",
       "    </tr>\n",
       "    <tr>\n",
       "      <th>20</th>\n",
       "      <td>0.752896</td>\n",
       "    </tr>\n",
       "    <tr>\n",
       "      <th>21</th>\n",
       "      <td>0.720463</td>\n",
       "    </tr>\n",
       "  </tbody>\n",
       "</table>\n",
       "</div>"
      ],
      "text/plain": [
       "    embedding\n",
       "0    0.737452\n",
       "1    0.738224\n",
       "2    0.760618\n",
       "3    0.755985\n",
       "4    0.763707\n",
       "5    0.763707\n",
       "6    0.765251\n",
       "7    0.764479\n",
       "8    0.766023\n",
       "9    0.771429\n",
       "10   0.771429\n",
       "11   0.771429\n",
       "12   0.775290\n",
       "13   0.779151\n",
       "14   0.780695\n",
       "15   0.780695\n",
       "16   0.779151\n",
       "17   0.778378\n",
       "18   0.776062\n",
       "19   0.773745\n",
       "20   0.752896\n",
       "21   0.720463"
      ]
     },
     "execution_count": 32,
     "metadata": {},
     "output_type": "execute_result"
    }
   ],
   "source": [
    "model = LogisticRegression(random_state=100000, penalty = \"l2\", fit_intercept=True, intercept_scaling=1000, class_weight='balanced')\n",
    "param_grid_ = {'C': [1e-5, 1e-4, 1e-3, 1e-2, 0.05, 0.1, 0.11, 0.12, 0.125, 0.15, 0.175, 0.2, 0.3, 0.4, 0.5, 0.6, 0.7, 0.8, 0.9, 1e0, 1e1, 1e2]}\n",
    "\n",
    "X = result\n",
    "y = dataset[class_field]\n",
    "\n",
    "\n",
    "bow_search = modsel.GridSearchCV(\n",
    "    model,\n",
    "    cv=5,\n",
    "    param_grid=param_grid_,\n",
    "    return_train_score=True\n",
    ")\n",
    "\n",
    "bow_search.fit(X, y)\n",
    "\n",
    "Text_search_results = pd.DataFrame.from_dict({\n",
    "    'embedding': bow_search.cv_results_['mean_test_score']\n",
    "})\n",
    "\n",
    "Text_search_results"
   ]
  },
  {
   "cell_type": "code",
   "execution_count": 35,
   "id": "830f0744-b71c-4a32-9edb-7f0f094a464c",
   "metadata": {},
   "outputs": [],
   "source": [
    "C = param_grid_['C'][13]\n",
    "\n",
    "Logistic_Model = LogisticRegression(\n",
    "    C=C,\n",
    "    fit_intercept=True, \n",
    "    penalty=\"l1\",\n",
    "    class_weight='balanced',\n",
    "    solver=\"liblinear\",\n",
    "    intercept_scaling=1000,\n",
    "    random_state=100000\n",
    ")\n",
    "\n",
    "log_CV = Logistic_Model.fit(X, y)\n"
   ]
  },
  {
   "cell_type": "code",
   "execution_count": 36,
   "id": "e0e29694-d4ea-4679-97c5-847df7da7f72",
   "metadata": {},
   "outputs": [
    {
     "data": {
      "text/plain": [
       "0.7382239382239382"
      ]
     },
     "execution_count": 36,
     "metadata": {},
     "output_type": "execute_result"
    }
   ],
   "source": [
    "preds_LASSO = modsel.cross_val_predict(log_CV, X, y, cv=5, method=\"predict\")\n",
    "preds_proba_LASSO = modsel.cross_val_predict(log_CV, X, y, cv=5, method=\"predict_proba\")\n",
    "\n",
    "accuracy_score(preds_LASSO, y)"
   ]
  },
  {
   "cell_type": "markdown",
   "id": "cc7b7904-138f-4e67-9b79-b78c8af29c7e",
   "metadata": {},
   "source": [
    "## Conclusion\n",
    "Our toy model obtained 73% of accuracy on the training data. That is not the best way to evaluate and select machine learning models but gives us a glimpse of how our data could be used for modeling.\n",
    "\n",
    "You can refer to **Gryphon classification template** to get more details of the process of fitting a model in this kind of problem."
   ]
  }
 ],
 "metadata": {
  "kernelspec": {
   "display_name": "Python 3",
   "language": "python",
   "name": "python3"
  },
  "language_info": {
   "codemirror_mode": {
    "name": "ipython",
    "version": 3
   },
   "file_extension": ".py",
   "mimetype": "text/x-python",
   "name": "python",
   "nbconvert_exporter": "python",
   "pygments_lexer": "ipython3",
   "version": "3.8.8"
  }
 },
 "nbformat": 4,
 "nbformat_minor": 5
}
