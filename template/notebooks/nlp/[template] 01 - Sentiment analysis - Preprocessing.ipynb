{
 "cells": [
  {
   "cell_type": "markdown",
   "id": "103bdabf",
   "metadata": {},
   "source": [
    "<div class=\"alert alert-danger\" role=\"alert\">\n",
    "    <span style=\"font-size:20px\">&#9888;</span> <span style=\"font-size:16px\">This is a read-only notebook! If you want to make and save changes, save a copy by clicking on <b>File</b> &#8594; <b>Save a copy</b>. If this is already a copy, you can delete this cell.</span>\n",
    "</div>"
   ]
  },
  {
   "cell_type": "markdown",
   "id": "c9282988-4d5f-48e1-9fe6-0c13470311db",
   "metadata": {},
   "source": [
    "# Sentiment analysis"
   ]
  },
  {
   "cell_type": "code",
   "execution_count": 15,
   "id": "9d83f4c4-1987-4ddc-975b-e87e88b317b9",
   "metadata": {},
   "outputs": [],
   "source": [
    "import re\n",
    "\n",
    "import pandas as pd\n",
    "\n",
    "from nlp import TextPreparation\n",
    "\n",
    "pd.set_option('display.max_colwidth', 500)"
   ]
  },
  {
   "cell_type": "code",
   "execution_count": 1,
   "id": "e29fb582-ec02-44b2-a0ca-f2ffe2312931",
   "metadata": {},
   "outputs": [],
   "source": [
    "# Add path of the folder 'resources' to the path from which we can import modules  \n",
    "import sys\n",
    "sys.path.append('../../utilities')"
   ]
  },
  {
   "cell_type": "markdown",
   "id": "78589ad4",
   "metadata": {},
   "source": [
    "# Import data"
   ]
  },
  {
   "cell_type": "code",
   "execution_count": 24,
   "id": "f99b1311-8edc-4737-8381-df4d9feca0c8",
   "metadata": {},
   "outputs": [
    {
     "data": {
      "text/html": [
       "<div>\n",
       "<style scoped>\n",
       "    .dataframe tbody tr th:only-of-type {\n",
       "        vertical-align: middle;\n",
       "    }\n",
       "\n",
       "    .dataframe tbody tr th {\n",
       "        vertical-align: top;\n",
       "    }\n",
       "\n",
       "    .dataframe thead th {\n",
       "        text-align: right;\n",
       "    }\n",
       "</style>\n",
       "<table border=\"1\" class=\"dataframe\">\n",
       "  <thead>\n",
       "    <tr style=\"text-align: right;\">\n",
       "      <th></th>\n",
       "      <th>Id</th>\n",
       "      <th>Sentiment</th>\n",
       "      <th>Text</th>\n",
       "    </tr>\n",
       "  </thead>\n",
       "  <tbody>\n",
       "    <tr>\n",
       "      <th>0</th>\n",
       "      <td>0</td>\n",
       "      <td>Bad</td>\n",
       "      <td>Ford Motor: That's a Lot of Recalls -- Barron's Blog</td>\n",
       "    </tr>\n",
       "    <tr>\n",
       "      <th>1</th>\n",
       "      <td>1</td>\n",
       "      <td>Neutral</td>\n",
       "      <td>Press Release: Event Alert: Kinaxis Customer, Ford Motor Company, to Present at North American Supply Chain Executive Summit</td>\n",
       "    </tr>\n",
       "    <tr>\n",
       "      <th>2</th>\n",
       "      <td>2</td>\n",
       "      <td>Bad</td>\n",
       "      <td>Ford Motor: How Risky is Its Autonomous Driving Plan? -- Barron's Blog</td>\n",
       "    </tr>\n",
       "    <tr>\n",
       "      <th>3</th>\n",
       "      <td>3</td>\n",
       "      <td>Good</td>\n",
       "      <td>Ford Motor Plans Ride-Hailing Service With Fleet of Driverless Cars by 2021</td>\n",
       "    </tr>\n",
       "    <tr>\n",
       "      <th>4</th>\n",
       "      <td>4</td>\n",
       "      <td>Bad</td>\n",
       "      <td>Ford Motor Files 8K - Other Events &gt;F</td>\n",
       "    </tr>\n",
       "  </tbody>\n",
       "</table>\n",
       "</div>"
      ],
      "text/plain": [
       "   Id Sentiment  \\\n",
       "0   0       Bad   \n",
       "1   1   Neutral   \n",
       "2   2       Bad   \n",
       "3   3      Good   \n",
       "4   4       Bad   \n",
       "\n",
       "                                                                                                                           Text  \n",
       "0                                                                          Ford Motor: That's a Lot of Recalls -- Barron's Blog  \n",
       "1  Press Release: Event Alert: Kinaxis Customer, Ford Motor Company, to Present at North American Supply Chain Executive Summit  \n",
       "2                                                        Ford Motor: How Risky is Its Autonomous Driving Plan? -- Barron's Blog  \n",
       "3                                                   Ford Motor Plans Ride-Hailing Service With Fleet of Driverless Cars by 2021  \n",
       "4                                                                                         Ford Motor Files 8K - Other Events >F  "
      ]
     },
     "execution_count": 24,
     "metadata": {},
     "output_type": "execute_result"
    }
   ],
   "source": [
    "# Load the train document\n",
    "text_field = \"Text\"\n",
    "\n",
    "dataset = pd.read_csv(\"./sample_input/sentiment_train.csv\", encoding=\"utf8\").reset_index()\n",
    "dataset = dataset[[\"index\",\"Good Bad or Neutral\", \"URL of the article\"]]\n",
    "dataset.columns = [\"Id\", \"Sentiment\", \"Text\"]\n",
    "\n",
    "dataset.head()"
   ]
  },
  {
   "cell_type": "markdown",
   "id": "2898d11e-80a1-44df-9b79-912a35b0f814",
   "metadata": {},
   "source": [
    "## General preprocessing\n",
    "\n",
    "In this section we apply the commonly applyed preprocessing in order to get a cleaner data. If you have questions about the functions in this section you can refer to the notebook [`01- Basic NLP preprocessing.ipynb`](http://localhost:8888/lab/tree/template/notebooks/01-%20Basic%20NLP%20preprocessing.ipynb) available on the `notebooks` folder."
   ]
  },
  {
   "cell_type": "code",
   "execution_count": 25,
   "id": "e2bdb90f-079b-4fe4-b8a3-c09fa6aa6a10",
   "metadata": {},
   "outputs": [
    {
     "data": {
      "text/html": [
       "<div>\n",
       "<style scoped>\n",
       "    .dataframe tbody tr th:only-of-type {\n",
       "        vertical-align: middle;\n",
       "    }\n",
       "\n",
       "    .dataframe tbody tr th {\n",
       "        vertical-align: top;\n",
       "    }\n",
       "\n",
       "    .dataframe thead th {\n",
       "        text-align: right;\n",
       "    }\n",
       "</style>\n",
       "<table border=\"1\" class=\"dataframe\">\n",
       "  <thead>\n",
       "    <tr style=\"text-align: right;\">\n",
       "      <th></th>\n",
       "      <th>Id</th>\n",
       "      <th>Sentiment</th>\n",
       "      <th>Text</th>\n",
       "    </tr>\n",
       "  </thead>\n",
       "  <tbody>\n",
       "    <tr>\n",
       "      <th>0</th>\n",
       "      <td>0</td>\n",
       "      <td>Bad</td>\n",
       "      <td>ford motor    lot  recalls barrons blog</td>\n",
       "    </tr>\n",
       "    <tr>\n",
       "      <th>1</th>\n",
       "      <td>1</td>\n",
       "      <td>Neutral</td>\n",
       "      <td>press release event alert kinaxis customer ford motor company  present  north american supply chain executive summit</td>\n",
       "    </tr>\n",
       "    <tr>\n",
       "      <th>2</th>\n",
       "      <td>2</td>\n",
       "      <td>Bad</td>\n",
       "      <td>ford motor  risky   autonomous driving plan barrons blog</td>\n",
       "    </tr>\n",
       "    <tr>\n",
       "      <th>3</th>\n",
       "      <td>3</td>\n",
       "      <td>Good</td>\n",
       "      <td>ford motor plans ridehailing service  fleet  driverless cars</td>\n",
       "    </tr>\n",
       "    <tr>\n",
       "      <th>4</th>\n",
       "      <td>4</td>\n",
       "      <td>Bad</td>\n",
       "      <td>ford motor files k  events f</td>\n",
       "    </tr>\n",
       "  </tbody>\n",
       "</table>\n",
       "</div>"
      ],
      "text/plain": [
       "   Id Sentiment  \\\n",
       "0   0       Bad   \n",
       "1   1   Neutral   \n",
       "2   2       Bad   \n",
       "3   3      Good   \n",
       "4   4       Bad   \n",
       "\n",
       "                                                                                                                   Text  \n",
       "0                                                                               ford motor    lot  recalls barrons blog  \n",
       "1  press release event alert kinaxis customer ford motor company  present  north american supply chain executive summit  \n",
       "2                                                              ford motor  risky   autonomous driving plan barrons blog  \n",
       "3                                                         ford motor plans ridehailing service  fleet  driverless cars   \n",
       "4                                                                                          ford motor files k  events f  "
      ]
     },
     "execution_count": 25,
     "metadata": {},
     "output_type": "execute_result"
    }
   ],
   "source": [
    "dataset[text_field] = TextPreparation.lowercase(dataset[text_field])\n",
    "dataset[text_field] = TextPreparation.expand_contractions(dataset[text_field])\n",
    "dataset[text_field] = TextPreparation.remove_special_chars(dataset[text_field])\n",
    "dataset[text_field] = TextPreparation.remove_numbers(dataset[text_field])\n",
    "dataset[text_field] = TextPreparation.remove_stopwords(dataset[text_field])\n",
    "\n",
    "dataset.head()"
   ]
  },
  {
   "cell_type": "markdown",
   "id": "7063cdb1-6abf-41f0-afb5-99acec7e83ee",
   "metadata": {},
   "source": [
    "## Specifics preprocessing\n",
    "\n",
    "Here we add some extra preprocessing that are specific to the dataset we are dealing with."
   ]
  },
  {
   "cell_type": "code",
   "execution_count": 30,
   "id": "bc2c0239-cc43-45cf-8a77-1ad64e0b15ed",
   "metadata": {},
   "outputs": [
    {
     "data": {
      "text/html": [
       "<div>\n",
       "<style scoped>\n",
       "    .dataframe tbody tr th:only-of-type {\n",
       "        vertical-align: middle;\n",
       "    }\n",
       "\n",
       "    .dataframe tbody tr th {\n",
       "        vertical-align: top;\n",
       "    }\n",
       "\n",
       "    .dataframe thead th {\n",
       "        text-align: right;\n",
       "    }\n",
       "</style>\n",
       "<table border=\"1\" class=\"dataframe\">\n",
       "  <thead>\n",
       "    <tr style=\"text-align: right;\">\n",
       "      <th></th>\n",
       "      <th>Id</th>\n",
       "      <th>Sentiment</th>\n",
       "      <th>Text</th>\n",
       "    </tr>\n",
       "  </thead>\n",
       "  <tbody>\n",
       "    <tr>\n",
       "      <th>0</th>\n",
       "      <td>0</td>\n",
       "      <td>Bad</td>\n",
       "      <td>company company    lot  recalls barrons blog</td>\n",
       "    </tr>\n",
       "    <tr>\n",
       "      <th>1</th>\n",
       "      <td>1</td>\n",
       "      <td>Neutral</td>\n",
       "      <td>press release event alert kinaxis customer company company company  present  north american supply chain executive summit</td>\n",
       "    </tr>\n",
       "    <tr>\n",
       "      <th>2</th>\n",
       "      <td>2</td>\n",
       "      <td>Bad</td>\n",
       "      <td>company company  risky   autonomous driving plan barrons blog</td>\n",
       "    </tr>\n",
       "    <tr>\n",
       "      <th>3</th>\n",
       "      <td>3</td>\n",
       "      <td>Good</td>\n",
       "      <td>company company plans ridehailing service  fleet  driverless cars</td>\n",
       "    </tr>\n",
       "    <tr>\n",
       "      <th>4</th>\n",
       "      <td>4</td>\n",
       "      <td>Bad</td>\n",
       "      <td>company company files k  events f</td>\n",
       "    </tr>\n",
       "  </tbody>\n",
       "</table>\n",
       "</div>"
      ],
      "text/plain": [
       "   Id Sentiment  \\\n",
       "0   0       Bad   \n",
       "1   1   Neutral   \n",
       "2   2       Bad   \n",
       "3   3      Good   \n",
       "4   4       Bad   \n",
       "\n",
       "                                                                                                                        Text  \n",
       "0                                                                               company company    lot  recalls barrons blog  \n",
       "1  press release event alert kinaxis customer company company company  present  north american supply chain executive summit  \n",
       "2                                                              company company  risky   autonomous driving plan barrons blog  \n",
       "3                                                         company company plans ridehailing service  fleet  driverless cars   \n",
       "4                                                                                          company company files k  events f  "
      ]
     },
     "execution_count": 30,
     "metadata": {},
     "output_type": "execute_result"
    }
   ],
   "source": [
    "# Change company identifiers to 'compani' (stemmer.stem(\"company\"))\n",
    "\n",
    "companies = [\n",
    "    \"cemex\", \"facebook\", \"facebooks\", \"lukoil\", \"dowdupont\", \"tesla\", \"uber\", \n",
    "    \"disney\", \"reliance\", \"saic\", \"gerdau\", \"deutsche\", \"kinder\", \n",
    "    \"morgan\", \"motor\", \"bank\", \"ford\", \"exxon\", \"masco\", \"ubs\",\n",
    "    \"fiat\", \"daimler\", \"alphabet\", \"basf\", \"suncor\", \"apple\", \"wells\",\n",
    "    \"fargo\", \"citigroup\", \"citi\", \"comcast\", \"viacom\"\n",
    "]\n",
    "\n",
    "\n",
    "for company_to_replace in companies:\n",
    "    regex_expression = re.compile(fr'\\b{company_to_replace}\\b', re.IGNORECASE)\n",
    "    dataset[text_field].replace(regex_expression, \"company\", inplace=True)\n",
    "    \n",
    "dataset.head()"
   ]
  },
  {
   "cell_type": "code",
   "execution_count": 31,
   "id": "7f9c388e-3b3c-4e1d-8bed-abfb1199e100",
   "metadata": {},
   "outputs": [],
   "source": [
    "dataset.to_csv(\"./sample_output/sentiment_train_processed1.csv\", index=False)"
   ]
  },
  {
   "cell_type": "markdown",
   "id": "d212f2c2-f71b-4bee-823b-3d70d6580d25",
   "metadata": {},
   "source": [
    "## Conclusion\n"
   ]
  }
 ],
 "metadata": {
  "kernelspec": {
   "display_name": "Python 3 (ipykernel)",
   "language": "python",
   "name": "python3"
  },
  "language_info": {
   "codemirror_mode": {
    "name": "ipython",
    "version": 3
   },
   "file_extension": ".py",
   "mimetype": "text/x-python",
   "name": "python",
   "nbconvert_exporter": "python",
   "pygments_lexer": "ipython3",
   "version": "3.9.5"
  },
  "toc": {
   "base_numbering": 1,
   "nav_menu": {},
   "number_sections": true,
   "sideBar": true,
   "skip_h1_title": false,
   "title_cell": "Table of Contents",
   "title_sidebar": "Contents",
   "toc_cell": false,
   "toc_position": {},
   "toc_section_display": true,
   "toc_window_display": false
  }
 },
 "nbformat": 4,
 "nbformat_minor": 5
}
